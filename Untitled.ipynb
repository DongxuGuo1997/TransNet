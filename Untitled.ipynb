{
 "cells": [
  {
   "cell_type": "code",
   "execution_count": 1,
   "metadata": {},
   "outputs": [],
   "source": [
    "import pickle\n",
    "import PIL\n",
    "\n",
    "import numpy as np\n",
    "import matplotlib\n",
    "import matplotlib.pyplot as plt\n",
    "import numpy as np\n",
    "import copy\n",
    "\n",
    "from jaad_trans import *\n",
    "from pie_trans import *"
   ]
  },
  {
   "cell_type": "code",
   "execution_count": 2,
   "metadata": {},
   "outputs": [],
   "source": [
    "pie_anns_path =  r'C:\\Users\\Dongxu Guo\\Documents\\GitHub\\Stop_Go_Dataset\\raw_data\\pie_database.pkl'\n",
    "jaad_anns_path =  r'C:\\Users\\Dongxu Guo\\Documents\\GitHub\\Stop_Go_Dataset\\raw_data\\JAAD_DATA.pkl'\n",
    "split_vids_path = r'C:\\Users\\Dongxu Guo\\Documents\\GitHub\\JAAD_project\\split_ids'\n"
   ]
  },
  {
   "cell_type": "code",
   "execution_count": 3,
   "metadata": {},
   "outputs": [
    {
     "name": "stdout",
     "output_type": "stream",
     "text": [
      "\n",
      "\n",
      "----------------------------------------------------------------\n",
      "Total number of standing to walking transitions (raw): 247\n",
      "Total number of walking to standing transitions  (raw): 309\n"
     ]
    }
   ],
   "source": [
    "pie = pie_trans_dataset(pie_anns_path, image_set = \"train\", verbose=True)\n",
    "samples_pie = pie.extract_trans_history(mode = \"STOP\", fps = 10)"
   ]
  },
  {
   "cell_type": "code",
   "execution_count": 4,
   "metadata": {},
   "outputs": [
    {
     "name": "stdout",
     "output_type": "stream",
     "text": [
      "dict_keys(['PS_0001_train', 'PS_0002_train', 'PS_0003_train', 'PS_0004_train', 'PS_0005_train', 'PS_0006_train', 'PS_0007_train', 'PS_0008_train', 'PS_0009_train', 'PS_0010_train', 'PS_0011_train', 'PS_0012_train', 'PS_0013_train', 'PS_0014_train', 'PS_0015_train', 'PS_0016_train', 'PS_0017_train', 'PS_0018_train', 'PS_0019_train', 'PS_0020_train', 'PS_0021_train', 'PS_0022_train', 'PS_0023_train', 'PS_0024_train', 'PS_0025_train', 'PS_0026_train', 'PS_0027_train', 'PS_0028_train', 'PS_0029_train', 'PS_0030_train', 'PS_0031_train', 'PS_0032_train', 'PS_0033_train', 'PS_0034_train', 'PS_0035_train', 'PS_0036_train', 'PS_0037_train', 'PS_0038_train', 'PS_0039_train', 'PS_0040_train', 'PS_0041_train', 'PS_0042_train', 'PS_0043_train', 'PS_0044_train', 'PS_0045_train', 'PS_0046_train', 'PS_0047_train', 'PS_0048_train', 'PS_0049_train', 'PS_0050_train', 'PS_0051_train', 'PS_0052_train', 'PS_0053_train', 'PS_0054_train', 'PS_0055_train', 'PS_0056_train', 'PS_0057_train', 'PS_0058_train', 'PS_0059_train', 'PS_0060_train', 'PS_0061_train', 'PS_0062_train', 'PS_0063_train', 'PS_0064_train', 'PS_0065_train', 'PS_0066_train', 'PS_0067_train', 'PS_0068_train', 'PS_0069_train', 'PS_0070_train', 'PS_0071_train', 'PS_0072_train', 'PS_0073_train', 'PS_0074_train', 'PS_0075_train', 'PS_0076_train', 'PS_0077_train', 'PS_0078_train', 'PS_0079_train', 'PS_0080_train', 'PS_0081_train', 'PS_0082_train', 'PS_0083_train', 'PS_0084_train', 'PS_0085_train', 'PS_0086_train', 'PS_0087_train', 'PS_0088_train', 'PS_0089_train', 'PS_0090_train', 'PS_0091_train', 'PS_0092_train', 'PS_0093_train', 'PS_0094_train', 'PS_0095_train', 'PS_0096_train', 'PS_0097_train', 'PS_0098_train', 'PS_0099_train', 'PS_0100_train', 'PS_0101_train', 'PS_0102_train', 'PS_0103_train', 'PS_0104_train', 'PS_0105_train', 'PS_0106_train', 'PS_0107_train', 'PS_0108_train', 'PS_0109_train', 'PS_0110_train', 'PS_0111_train', 'PS_0112_train', 'PS_0113_train', 'PS_0114_train', 'PS_0115_train', 'PS_0116_train', 'PS_0117_train', 'PS_0118_train', 'PS_0119_train', 'PS_0120_train', 'PS_0121_train', 'PS_0122_train', 'PS_0123_train', 'PS_0124_train', 'PS_0125_train', 'PS_0126_train', 'PS_0127_train', 'PS_0128_train', 'PS_0129_train', 'PS_0130_train', 'PS_0131_train', 'PS_0132_train', 'PS_0133_train', 'PS_0134_train', 'PS_0135_train', 'PS_0136_train', 'PS_0137_train', 'PS_0138_train', 'PS_0139_train', 'PS_0140_train', 'PS_0141_train', 'PS_0142_train', 'PS_0143_train', 'PS_0144_train', 'PS_0145_train', 'PS_0146_train', 'PS_0147_train', 'PS_0148_train', 'PS_0149_train', 'PS_0150_train', 'PS_0151_train', 'PS_0152_train', 'PS_0153_train', 'PS_0154_train', 'PS_0155_train', 'PS_0156_train', 'PS_0157_train', 'PS_0158_train', 'PS_0159_train', 'PS_0160_train', 'PS_0161_train', 'PS_0162_train', 'PS_0163_train', 'PS_0164_train', 'PS_0165_train', 'PS_0166_train', 'PS_0167_train', 'PS_0168_train', 'PS_0169_train', 'PS_0170_train', 'PS_0171_train', 'PS_0172_train', 'PS_0173_train', 'PS_0174_train', 'PS_0175_train', 'PS_0176_train', 'PS_0177_train', 'PS_0178_train', 'PS_0179_train', 'PS_0180_train', 'PS_0181_train', 'PS_0182_train', 'PS_0183_train', 'PS_0184_train', 'PS_0185_train', 'PS_0186_train', 'PS_0187_train', 'PS_0188_train', 'PS_0189_train', 'PS_0190_train', 'PS_0191_train', 'PS_0192_train', 'PS_0193_train', 'PS_0194_train', 'PS_0195_train', 'PS_0196_train', 'PS_0197_train', 'PS_0198_train', 'PS_0199_train', 'PS_0200_train', 'PS_0201_train', 'PS_0202_train', 'PS_0203_train', 'PS_0204_train', 'PS_0205_train', 'PS_0206_train', 'PS_0207_train', 'PS_0208_train', 'PS_0209_train', 'PS_0210_train', 'PS_0211_train', 'PS_0212_train', 'PS_0213_train', 'PS_0214_train', 'PS_0215_train', 'PS_0216_train', 'PS_0217_train', 'PS_0218_train', 'PS_0219_train', 'PS_0220_train', 'PS_0221_train', 'PS_0222_train', 'PS_0223_train', 'PS_0224_train', 'PS_0225_train', 'PS_0226_train', 'PS_0227_train', 'PS_0228_train', 'PS_0229_train', 'PS_0230_train', 'PS_0231_train', 'PS_0232_train', 'PS_0233_train', 'PS_0234_train', 'PS_0235_train', 'PS_0236_train', 'PS_0237_train', 'PS_0238_train', 'PS_0239_train', 'PS_0240_train', 'PS_0241_train', 'PS_0242_train', 'PS_0243_train', 'PS_0244_train', 'PS_0245_train', 'PS_0246_train', 'PS_0247_train', 'PS_0248_train', 'PS_0249_train', 'PS_0250_train', 'PS_0251_train', 'PS_0252_train', 'PS_0253_train', 'PS_0254_train', 'PS_0255_train', 'PS_0256_train', 'PS_0257_train', 'PS_0258_train', 'PS_0259_train', 'PS_0260_train', 'PS_0261_train', 'PS_0262_train', 'PS_0263_train', 'PS_0264_train', 'PS_0265_train', 'PS_0266_train', 'PS_0267_train', 'PS_0268_train', 'PS_0269_train', 'PS_0270_train', 'PS_0271_train', 'PS_0272_train', 'PS_0273_train', 'PS_0274_train', 'PS_0275_train', 'PS_0276_train', 'PS_0277_train', 'PS_0278_train', 'PS_0279_train', 'PS_0280_train', 'PS_0281_train', 'PS_0282_train', 'PS_0283_train', 'PS_0284_train', 'PS_0285_train', 'PS_0286_train', 'PS_0287_train', 'PS_0288_train', 'PS_0289_train', 'PS_0290_train', 'PS_0291_train', 'PS_0292_train', 'PS_0293_train', 'PS_0294_train', 'PS_0295_train', 'PS_0296_train', 'PS_0297_train', 'PS_0298_train', 'PS_0299_train', 'PS_0300_train', 'PS_0301_train', 'PS_0302_train', 'PS_0303_train'])\n"
     ]
    }
   ],
   "source": [
    "print(samples_pie.keys())"
   ]
  },
  {
   "cell_type": "code",
   "execution_count": 6,
   "metadata": {},
   "outputs": [
    {
     "name": "stdout",
     "output_type": "stream",
     "text": [
      "{'source': 'PIE', 'old_id': '1_1_16/13762', 'set_number': 'set01', 'video_number': 'video_0001', 'frame': [13537, 13540, 13543, 13546, 13549, 13552, 13555, 13558, 13561, 13564, 13567, 13570, 13573, 13576, 13579, 13582, 13585, 13588, 13591, 13594, 13597, 13600, 13603, 13606, 13609, 13612, 13615, 13618, 13621, 13624, 13627, 13630, 13633, 13636, 13639, 13642, 13645, 13648, 13651, 13654, 13657, 13660, 13663, 13666, 13669, 13672, 13675, 13678, 13681, 13684, 13687, 13690, 13693, 13696, 13699, 13702, 13705, 13708, 13711, 13714, 13717, 13720, 13723, 13726, 13729, 13732, 13735, 13738, 13741, 13744, 13747, 13750, 13753, 13756, 13759, 13762], 'bbox': [[1070.13, 808.39, 1078.06, 836.4], [1069.55, 808.7, 1078.06, 836.91], [1068.97, 809.01, 1078.06, 837.42], [1068.38, 809.32, 1078.06, 837.93], [1067.74, 809.54, 1078.01, 838.35], [1067.22, 810.1, 1078.07, 839.11], [1066.97, 808.19, 1078.4, 837.4], [1066.14, 806.05, 1077.58, 835.44], [1066.41, 806.23, 1077.85, 835.79], [1066.9, 809.5, 1078.35, 839.23], [1067.93, 809.9, 1079.38, 839.79], [1066.9, 805.77, 1078.36, 835.83], [1068.51, 809.65, 1079.96, 839.89], [1069.9, 808.82, 1081.39, 839.26], [1070.93, 806.71, 1082.51, 837.4], [1072.66, 808.39, 1084.34, 839.35], [1074.79, 807.76, 1085.7, 839.0], [1076.28, 806.23, 1087.53, 837.73], [1077.47, 806.76, 1089.07, 838.52], [1079.23, 807.85, 1091.16, 839.86], [1082.25, 804.84, 1093.6, 837.18], [1085.42, 805.93, 1096.01, 838.65], [1087.58, 806.16, 1098.08, 839.26], [1090.61, 805.99, 1101.55, 839.47], [1092.84, 807.27, 1104.24, 841.13], [1095.05, 807.1, 1106.9, 841.34], [1095.6, 805.38, 1107.9, 840.0], [1098.81, 803.94, 1110.98, 838.09], [1100.61, 807.92, 1113.13, 842.93], [1099.92, 806.8, 1112.57, 842.02], [1101.11, 805.01, 1113.87, 840.43], [1102.25, 804.52, 1115.13, 840.13], [1102.41, 802.49, 1115.4, 838.32], [1103.12, 802.51, 1116.21, 838.7], [1104.22, 802.27, 1117.36, 839.14], [1105.33, 802.02, 1118.5, 839.58], [1106.43, 801.78, 1119.65, 840.03], [1106.41, 799.28, 1119.66, 838.21], [1108.87, 800.71, 1122.17, 840.33], [1110.44, 802.76, 1123.78, 843.08], [1111.55, 804.18, 1125.26, 845.28], [1113.28, 806.38, 1127.53, 848.3], [1115.62, 805.32, 1130.41, 848.06], [1115.98, 801.63, 1131.31, 845.19], [1116.13, 797.36, 1131.99, 841.75], [1118.46, 796.27, 1134.86, 841.49], [1119.36, 797.86, 1136.3, 843.9], [1122.49, 798.57, 1138.09, 845.5], [1124.33, 798.78, 1140.92, 846.6], [1127.16, 799.69, 1143.98, 847.5], [1129.84, 799.35, 1147.61, 847.99], [1132.46, 798.4, 1151.53, 848.28], [1137.57, 794.27, 1155.3, 845.7], [1139.68, 794.52, 1160.78, 846.8], [1143.99, 793.82, 1164.63, 847.08], [1148.29, 793.12, 1168.7, 847.37], [1152.6, 792.42, 1173.2, 847.65], [1156.9, 791.72, 1177.7, 847.93], [1161.2, 791.01, 1182.2, 848.22], [1165.51, 790.31, 1186.7, 848.5], [1170.16, 789.58, 1191.89, 849.59], [1174.98, 788.84, 1197.42, 851.07], [1180.58, 787.81, 1203.73, 852.26], [1187.36, 786.86, 1211.2, 851.5], [1193.66, 786.48, 1218.2, 854.03], [1199.96, 786.1, 1225.21, 856.56], [1209.44, 784.13, 1235.4, 857.5], [1217.97, 782.48, 1242.86, 857.11], [1226.75, 781.38, 1252.91, 857.71], [1236.76, 783.04, 1262.44, 861.51], [1246.64, 779.41, 1273.25, 861.37], [1256.72, 774.18, 1284.93, 859.77], [1268.43, 772.8, 1298.23, 862.0], [1280.59, 770.98, 1312.8, 863.9], [1292.41, 769.69, 1327.7, 868.61], [1303.38, 768.57, 1340.7, 869.7]], 'action': [1, 1, 1, 1, 1, 1, 1, 1, 1, 1, 1, 1, 1, 1, 1, 1, 1, 1, 1, 1, 1, 1, 1, 1, 1, 1, 1, 1, 1, 1, 1, 1, 1, 1, 1, 1, 1, 1, 1, 1, 1, 1, 1, 1, 1, 1, 1, 1, 1, 1, 1, 1, 1, 1, 1, 1, 1, 1, 1, 1, 1, 1, 1, 1, 1, 1, 1, 1, 1, 1, 1, 1, 1, 1, 1, 0], 'cross': [0, 0, 0, 0, 0, 0, 0, 0, 0, 0, 0, 0, 0, 0, 0, 0, 0, 0, 0, 0, 0, 0, 0, 0, 0, 0, 0, 0, 0, 0, 0, 0, 0, 0, 0, 0, 0, 0, 0, 0, 0, 0, 0, 0, 0, 0, 0, 0, 0, 0, 0, 0, 0, 0, 0, 0, 0, 0, 0, 0, 0, 0, 0, 0, 0, 0, 0, 0, 0, 0, 0, 0, 0, 0, 0, 0], 'looking': [0, 0, 0, 0, 0, 0, 0, 0, 0, 0, 0, 0, 0, 0, 0, 0, 0, 0, 0, 0, 0, 0, 0, 0, 0, 0, 0, 0, 0, 0, 0, 0, 0, 0, 0, 0, 0, 0, 0, 0, 0, 0, 0, 0, 0, 0, 0, 0, 0, 0, 0, 0, 0, 0, 0, 0, 0, 0, 0, 0, 0, 0, 0, 0, 0, 0, 0, 0, 0, 0, 0, 0, 0, 0, 0, 0], 'gesture': [0, 0, 0, 0, 0, 0, 0, 0, 0, 0, 0, 0, 0, 0, 0, 0, 0, 0, 0, 0, 0, 0, 0, 0, 0, 0, 0, 0, 0, 0, 0, 0, 0, 0, 0, 0, 0, 0, 0, 0, 0, 0, 0, 0, 0, 0, 0, 0, 0, 0, 0, 0, 0, 0, 0, 0, 0, 0, 0, 0, 0, 0, 0, 0, 0, 0, 0, 0, 0, 0, 0, 0, 0, 0, 0, 0], 'attributes': {'age': 2, 'critical_point': 13737, 'crossing': -1, 'crossing_point': 13804, 'exp_start_point': 13647, 'gender': 2, 'intention_prob': 0.15, 'intersection': 0, 'num_lanes': 4, 'signalized': 0, 'traffic_direction': 1}}\n"
     ]
    }
   ],
   "source": [
    "L = list(samples_pie.keys())\n",
    "print(samples_pie[L[2]])"
   ]
  },
  {
   "cell_type": "code",
   "execution_count": null,
   "metadata": {},
   "outputs": [],
   "source": []
  }
 ],
 "metadata": {
  "kernelspec": {
   "display_name": "Python 3",
   "language": "python",
   "name": "python3"
  },
  "language_info": {
   "codemirror_mode": {
    "name": "ipython",
    "version": 3
   },
   "file_extension": ".py",
   "mimetype": "text/x-python",
   "name": "python",
   "nbconvert_exporter": "python",
   "pygments_lexer": "ipython3",
   "version": "3.8.5"
  }
 },
 "nbformat": 4,
 "nbformat_minor": 4
}
